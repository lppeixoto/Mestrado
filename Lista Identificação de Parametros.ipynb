{
 "cells": [
  {
   "cell_type": "code",
   "execution_count": 16,
   "metadata": {},
   "outputs": [
    {
     "name": "stdout",
     "output_type": "stream",
     "text": [
      "[2.89440000e-01 3.14618780e+03 6.29208615e+03 9.43798451e+03\n",
      " 1.25838829e+04 1.57297812e+04 1.88756796e+04 2.20215779e+04\n",
      " 2.51674763e+04 2.83133746e+04 3.14592730e+04 3.46051714e+04\n",
      " 3.77510697e+04 4.08969681e+04 4.40428664e+04 4.71887648e+04\n",
      " 5.03346631e+04 5.34805615e+04 5.66264598e+04 5.97723582e+04]\n",
      "[1.26872800e+04 1.80540950e+02 1.70721012e+03 2.85207229e+03\n",
      " 1.54167511e+04 4.36124688e+04 5.97723582e+04 4.59093999e+04\n",
      " 2.05663716e+04 4.83418631e+03 2.89440000e-01 6.18580879e+03]\n"
     ]
    },
    {
     "data": {
      "text/plain": [
       "[<matplotlib.lines.Line2D at 0xc079c50>]"
      ]
     },
     "execution_count": 16,
     "metadata": {},
     "output_type": "execute_result"
    },
    {
     "data": {
      "image/png": "[encoded data removed]",
      "text/plain": [
       "<matplotlib.figure.Figure at 0xb30a400>"
      ]
     },
     "metadata": {},
     "output_type": "display_data"
    }
   ],
   "source": [
    "import numpy as np\n",
    "import matplotlib.pyplot as plt\n",
    "from scipy.interpolate import spline\n",
    "\n",
    "def S_a(Yi,x,B):\n",
    "    S_i = np.array([])\n",
    "    S_f = np.array([]) \n",
    "\n",
    "    for (Ti,t) in zip(Yi,x):\n",
    "        S =(Ti-100*np.sin(B*t))**2\n",
    "        S_i = np.hstack((S_i,S))\n",
    "        S_f = np.sum(S_i)\n",
    "    return S_f\n",
    "\n",
    "#Lista 1) Ex 1.5\n",
    "Theta = np.array([2.79,6.98,8.38])\n",
    "Yi = np.array([34.2,64.2,86])\n",
    "\n",
    "Bz = np.linspace(0.,1.1,12)\n",
    "\n",
    "S_ff = np.array([])\n",
    "for B in Bz:\n",
    "    S = np.round(S_a(Yi,Theta,B),5)\n",
    "    S_ff = np.hstack((S_ff,S))\n",
    "\n",
    "S_ff_new = np.linspace(S_ff.min(),S_ff.max(),20) \n",
    "print(S_ff_new)   \n",
    "S_ff_smooth = spline(T,S_ff,xnew)\n",
    "\n",
    "print(S_ff)\n",
    "plt.plot(Bz,S_ff)"
   ]
  },
  {
   "cell_type": "code",
   "execution_count": null,
   "metadata": {},
   "outputs": [],
   "source": [
    "import numpy as np\n",
    "import matplotlib.pyplot as plt\n",
    "import math\n",
    "\n",
    "def S_a(Yi,x,B):\n",
    "    S_i = np.array([])\n",
    "    S_f = np.array([]) \n",
    "\n",
    "    for (Ti,t) in zip(Yi,x):\n",
    "        S =(Ti-np.exp(B*t))**2\n",
    "        S_i = np.hstack((S_i,S))\n",
    "        S_f = np.sum(S_i)\n",
    "    return S_f\n",
    "\n",
    "def func(B,Tempo):\n",
    "    f = np.array([])\n",
    "    for t in Tempo:\n",
    "        x = np.exp(B*t)\n",
    "        f = np.hstack((f,x))\n",
    "    return f\n",
    "\n",
    "\n",
    "#Lista 1) Ex 1.4\n",
    "Tempo = np.array([0.25,0.5,0.75,1.,1.25])\n",
    "Yi = np.array([0.419,0.204,0.159,-0.106,0.042])\n",
    "Erro = np.array([-.053,-.019,.054,-.0156,.0187])\n",
    "\n",
    "Bz = np.linspace(-0.,-20,50)\n",
    "\n",
    "S_ff = np.array([])\n",
    "for B in Bz:\n",
    "    S = np.round(S_a(Yi,Tempo,B),5)\n",
    "    S_ff = np.hstack((S_ff,S))\n",
    "\n",
    "\n",
    "z = Bz[S_ff.argmin()]\n",
    "print(z)\n",
    "Val = func(-3.2,Tempo)\n",
    "    \n",
    "Erro_real = Yi - Val\n",
    "    \n",
    "    \n",
    "#print(S_ff)\n",
    "print('Valores Medidos')\n",
    "print(Yi)\n",
    "print('Valores Simulados')\n",
    "print(Val)\n",
    "print('Erro (Yi-Val)')\n",
    "print(Erro_real)\n",
    "plt.figure()\n",
    "plt.plot(Bz,S_ff)\n",
    "plt.gca().invert_xaxis()\n",
    "plt.title('SxB')\n",
    "plt.ylabel('S')\n",
    "plt.xlabel('B')\n",
    "plt.grid('on')\n",
    "\n",
    "plt.figure()\n",
    "plt.plot(Erro_real)\n",
    "plt.plot(Erro)\n",
    "plt.grid('on')\n",
    "\n",
    "fig, (ax1,ax2) = plt.subplots(1,2,sharey=False,figsize=(20,10))\n",
    "ax1.plot(Bz,S_ff)\n",
    "ax1.set_title('SxB')\n",
    "ax1.set_ylabel('S')\n",
    "ax1.set_xlabel('B')\n",
    "ax1.invert_xaxis()\n",
    "ax2.plot(Erro_real)\n",
    "ax2.plot(Erro)"
   ]
  },
  {
   "cell_type": "code",
   "execution_count": null,
   "metadata": {},
   "outputs": [],
   "source": [
    "def S_a(Yi,x,B):\n",
    "    S_i = np.array([])\n",
    "    S_f = np.array([]) \n",
    "\n",
    "    for (Ti,t) in zip(Yi,x):\n",
    "        S =(Ti-np.exp(B*t))**2\n",
    "        S_i = np.hstack((S_i,S))\n",
    "        S_f = np.sum(S_i)\n",
    "    return S_f\n",
    "\n",
    "def func(B,Tempo):\n",
    "    f = np.array([])\n",
    "    for t in Tempo:\n",
    "        x = np.exp(B*t)\n",
    "        f = np.hstack((f,x))\n",
    "    return f"
   ]
  }
 ],
 "metadata": {
  "kernelspec": {
   "display_name": "Python 3",
   "language": "python",
   "name": "python3"
  },
  "language_info": {
   "codemirror_mode": {
    "name": "ipython",
    "version": 3
   },
   "file_extension": ".py",
   "mimetype": "text/x-python",
   "name": "python",
   "nbconvert_exporter": "python",
   "pygments_lexer": "ipython3",
   "version": "3.6.4"
  }
 },
 "nbformat": 4,
 "nbformat_minor": 2
}
