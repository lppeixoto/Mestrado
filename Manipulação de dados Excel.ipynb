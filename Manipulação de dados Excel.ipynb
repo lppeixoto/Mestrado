{
 "cells": [
  {
   "cell_type": "code",
   "execution_count": null,
   "metadata": {},
   "outputs": [],
   "source": [
    "import pickle \n",
    "import pandas as pd\n",
    "\n",
    "EmailProfessor = open('Email Professores','rb')\n",
    "print(EmailProfessor[0])"
   ]
  },
  {
   "cell_type": "code",
   "execution_count": null,
   "metadata": {},
   "outputs": [],
   "source": [
    "import pandas as pd\n",
    "import numpy as np\n",
    "import pickle\n",
    "import os\n",
    "\n",
    "print(os.getcwd())\n",
    "\n",
    "df = pd.read_excel('Geral 2018.2.xlsx', sheet_name='QEspecial')\n",
    "pickle.dump(df, open('QuimicaTEspecial', 'wb'))\n",
    "\n",
    "df = pd.read_excel('Geral 2018.2.xlsx', sheet_name='SEspecial')\n",
    "pickle.dump(df, open('SegurancaTEspecial', 'wb'))\n",
    "\n",
    "df = pd.read_excel('Geral 2018.2.xlsx', sheet_name='IEspecial')\n",
    "pickle.dump(df, open('InformaticaTEspecial', 'wb'))\n",
    "\n",
    "df.to_html()\n",
    "df.dropna()\n",
    "#print(df)\n",
    "    "
   ]
  },
  {
   "cell_type": "code",
   "execution_count": null,
   "metadata": {},
   "outputs": [],
   "source": [
    "import pickle \n",
    "\n",
    "df = pickle.load(open('Email Professores Arrumado', 'rb'))\n",
    "Prof = 'Aline'\n",
    "print(Prof)\n",
    "#print(df)\n",
    "Email =df.get(Prof)\n",
    "print(Email)"
   ]
  },
  {
   "cell_type": "code",
   "execution_count": null,
   "metadata": {},
   "outputs": [],
   "source": [
    "import numpy as np \n",
    "\n",
    "a = np.array([2,4,6])\n",
    "z = np.array([2,3,4])\n",
    "\n",
    "b = np.square(a)\n",
    "print(b)\n",
    "\n",
    "c = np.sum(b)\n",
    "print(c)\n",
    "\n",
    "d = len(b)\n",
    "print(d)\n",
    "\n",
    "e = np.sum(np.square(a))\n",
    "print(e)\n",
    "\n",
    "o = np.sum(a*z)\n",
    "print(o)"
   ]
  }
 ],
 "metadata": {
  "kernelspec": {
   "display_name": "Python 3",
   "language": "python",
   "name": "python3"
  },
  "language_info": {
   "codemirror_mode": {
    "name": "ipython",
    "version": 3
   },
   "file_extension": ".py",
   "mimetype": "text/x-python",
   "name": "python",
   "nbconvert_exporter": "python",
   "pygments_lexer": "ipython3",
   "version": "3.6.4"
  }
 },
 "nbformat": 4,
 "nbformat_minor": 2
}
